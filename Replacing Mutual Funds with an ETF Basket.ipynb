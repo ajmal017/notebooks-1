{
 "cells": [
  {
   "cell_type": "code",
   "execution_count": 10,
   "metadata": {},
   "outputs": [],
   "source": [
    "library('RODBC')\n",
    "library('quantmod')\n",
    "library('PerformanceAnalytics')\n",
    "source(\"/usr/common/config.R\")\n",
    "lcon <- odbcDriverConnect(sprintf(\"Driver={SQL Server};Server=%s;Database=%s;Uid=%s;Pwd=%s;\", ldbserver, ldbname, ldbuser, ldbpassword), case = \"nochange\", believeNRows = TRUE)"
   ]
  },
  {
   "cell_type": "markdown",
   "metadata": {},
   "source": [
    "Select 10 equity funds with the highest AUM on 2011/3/1 (since the M100 ETF was listed only on 2011/2.) \n",
    "Ignore sectoral and ELSS funds."
   ]
  },
  {
   "cell_type": "code",
   "execution_count": 11,
   "metadata": {},
   "outputs": [
    {
     "name": "stderr",
     "output_type": "stream",
     "text": [
      "Warning message in attributes(.Data) <- c(attributes(.Data), attrib):\n",
      "“closing unused RODBC handle 3”"
     ]
    }
   ],
   "source": [
    "startDate<-as.Date('2011-03-01')\n",
    "\n",
    "schemes<-data.frame(SCHEME_CODE=0, SCHEME_NAME=\"\", stringsAsFactors = F)\n",
    "schemes<-rbind(schemes, c(102000, 'HDFC Top 200'))\n",
    "schemes<-rbind(schemes, c(101762, 'HDFC Equity'))\n",
    "schemes<-rbind(schemes, c(100377, 'Reliance Growth'))\n",
    "schemes<-rbind(schemes, c(103085, 'Reliance Regular Savings - EQUITY'))\n",
    "schemes<-rbind(schemes, c(100471, 'Franklin India Bluechip'))\n",
    "schemes<-rbind(schemes, c(103174, 'Birla Sun Life Frontline Equity'))\n",
    "schemes<-rbind(schemes, c(101161, 'Reliance Equity Opportunities'))\n",
    "schemes<-rbind(schemes, c(100380, 'Reliance Vision'))\n",
    "schemes<-rbind(schemes, c(101635, 'DSP BlackRock Top 100 Equity'))\n",
    "schemes<-rbind(schemes, c(102434, 'DSP BlackRock India T.I.G.E.R.'))\n",
    "schemes<-schemes[-1,]\n",
    "\n",
    "mfRets<-xts()\n",
    "for(i in 1:length(schemes[,1])){\n",
    "    scode<-schemes[i,1]\n",
    "\n",
    "    nav<-sqlQuery(lcon, sprintf(\"select NAV, AS_OF from MF_NAV_HISTORY\n",
    "                                    where SCHEME_CODE = %s\n",
    "                                    and AS_OF >= '%s'\", scode, startDate))\n",
    "    \n",
    "    navXts<-xts(nav$NAV, as.Date(nav$AS_OF))\n",
    "    mfRets<-merge(mfRets, dailyReturn(navXts))\n",
    "}\n",
    "names(mfRets)<-c(schemes[,1])"
   ]
  },
  {
   "cell_type": "markdown",
   "metadata": {},
   "source": [
    "NIFTYBEES, JUNIORBEES and M100 happen to be fairly liquid ETFs that span the large & midcap spectrum."
   ]
  },
  {
   "cell_type": "code",
   "execution_count": 12,
   "metadata": {
    "collapsed": true
   },
   "outputs": [],
   "source": [
    "etfs<-c('NIFTYBEES', 'JUNIORBEES', 'M100')\n",
    "\n",
    "etfRets<-xts()\n",
    "for(etf in etfs){\n",
    "    nav<-sqlQuery(lcon, sprintf(\"select TIME_STAMP, PX_CLOSE from PX_HISTORY\n",
    "                                    WHERE SYMBOL='%s'\n",
    "                                    AND TIME_STAMP >= '%s'\", etf, startDate))\n",
    "    \n",
    "    navXts<-xts(nav$PX_CLOSE, as.Date(nav$TIME_STAMP))\n",
    "    etfRets<-merge(etfRets, dailyReturn(navXts))\n",
    "}\n",
    "\n",
    "names(etfRets)<-etfs"
   ]
  },
  {
   "cell_type": "markdown",
   "metadata": {},
   "source": [
    "Regress the 200 days of returns over the first 500 days of returns"
   ]
  },
  {
   "cell_type": "code",
   "execution_count": 37,
   "metadata": {},
   "outputs": [
    {
     "name": "stdout",
     "output_type": "stream",
     "text": [
      "   SCHEME_CODE                             FACTORS MF_RET_CUM ETF_RET_CUM\n",
      "2       102000 0.74=>0.69, 0.33=>0.31, -0.12=>0.00      91.49       79.81\n",
      "3       101762  0.59=>0.57, 0.26=>0.25, 0.18=>0.18     104.28       91.18\n",
      "4       100377 0.10=>0.12, 0.80=>0.88, -0.08=>0.00     122.08      109.76\n",
      "5       103085 0.09=>0.07, 1.17=>0.93, -0.17=>0.00        109      112.02\n",
      "6       100471 0.80=>0.66, 0.40=>0.34, -0.47=>0.00       82.3       81.34\n",
      "7       103174 0.76=>0.45, 0.92=>0.55, -0.69=>0.00     106.03       92.38\n",
      "8       101161 0.11=>0.05, 2.11=>0.95, -1.55=>0.00      98.59      113.07\n",
      "9       100380  0.22=>0.26, 0.16=>0.19, 0.47=>0.55     109.77      118.53\n",
      "10      101635 0.54=>0.50, 0.54=>0.50, -0.44=>0.00      73.93       89.94\n",
      "11      102434 0.47=>0.41, -0.02=>0.00, 0.68=>0.59     111.02      109.58\n",
      "   MF_RET_ANN ETF_RET_ANN     DIFF\n",
      "2       17.19       15.41  10.3895\n",
      "3       19.06       17.14  10.0342\n",
      "4       21.51       19.83   7.8161\n",
      "5       19.72       20.14  -2.1348\n",
      "6       15.79       15.64   0.9394\n",
      "7        19.3       17.32  10.2573\n",
      "8       18.24       20.29 -11.2359\n",
      "9       19.83       21.03  -6.0677\n",
      "10      14.47       16.96 -17.1907\n",
      "11         20        19.8   0.9974\n"
     ]
    }
   ],
   "source": [
    "returnDf<-data.frame(SCHEME_CODE=\"\", FACTORS=\"\", MF_RET_CUM=0.0, ETF_RET_CUM=0.0, MF_RET_ANN=0.0, ETF_RET_ANN=0.0, DIFF=0.0, stringsAsFactors = F)\n",
    "for(i in 1:length(schemes[,1])){\n",
    "    scode<-schemes[i,1]\n",
    "    lmFormula<-formula(sprintf(\"X%s ~ %s + 0\", scode, paste(etfs, collapse=\"+\")))\n",
    "    \n",
    "    lmSubset<-na.omit(merge(mfRets[1:500, scode], etfRets[1:500,]))\n",
    "    \n",
    "    mf1<-rollapply(lmSubset[,1], 200, Return.cumulative)\n",
    "    etf1<-rollapply(lmSubset[,2], 200, Return.cumulative)\n",
    "    etf2<-rollapply(lmSubset[,3], 200, Return.cumulative)\n",
    "    etf3<-rollapply(lmSubset[,4], 200, Return.cumulative)\n",
    "    \n",
    "    lmSubsetRoll<-na.omit(merge(mf1, etf1, etf2, etf3))\n",
    "    \n",
    "    names(lmSubsetRoll)<-c(scode, etfs)\n",
    "    \n",
    "    lmret<-lm(lmFormula, data=data.frame(lmSubsetRoll))$coefficients\n",
    "    \n",
    "    #handle -ves\n",
    "    aF<-max(0, lmret[1])\n",
    "    bF<-max(0, lmret[2])\n",
    "    cF<-max(0, lmret[3])\n",
    "    \n",
    "    aF1<-aF/(aF+bF+cF)\n",
    "    bF1<-bF/(aF+bF+cF)\n",
    "    cF1<-cF/(aF+bF+cF)\n",
    "        \n",
    "    allXts<-na.omit(merge(mfRets[-(1:500), scode], aF1*etfRets[-(1:500), 1] + bF1*etfRets[-(1:500), 2] + cF1*etfRets[-(1:500), 3]))\n",
    "\n",
    "    cumMf<-Return.cumulative(allXts[,1])\n",
    "    cumEtfs<-Return.cumulative(allXts[,2])\n",
    "\n",
    "    annMf<-Return.annualized(allXts[,1])\n",
    "    annEtfs<-Return.annualized(allXts[,2])\n",
    "\n",
    "    returnDf<-rbind(returnDf, c(scode, sprintf(\"%.2f=>%.2f, %.2f=>%.2f, %.2f=>%.2f\", lmret[1], aF1, lmret[2], bF1, lmret[3], cF1), round(100*cumMf, 2), round(100*cumEtfs, 2), round(100*annMf, 2), round(100*annEtfs, 2), round(100*(annMf-annEtfs)/annMf, 4)))\n",
    "}\n",
    "returnDf<-returnDf[-1,]\n",
    "print(returnDf)"
   ]
  },
  {
   "cell_type": "markdown",
   "metadata": {},
   "source": [
    "4 out of 10 funds underperformed their ETF baskets and 2 out of 10 funds could be replaced by an ETF basket without compromising too much on returns."
   ]
  }
 ],
 "metadata": {
  "kernelspec": {
   "display_name": "R",
   "language": "R",
   "name": "ir"
  },
  "language_info": {
   "codemirror_mode": "r",
   "file_extension": ".r",
   "mimetype": "text/x-r-source",
   "name": "R",
   "pygments_lexer": "r",
   "version": "3.4.0"
  }
 },
 "nbformat": 4,
 "nbformat_minor": 2
}
