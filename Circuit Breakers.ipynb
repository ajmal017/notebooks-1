{
 "cells": [
  {
   "cell_type": "code",
   "execution_count": 36,
   "metadata": {},
   "outputs": [],
   "source": [
    "library('RODBC')\n",
    "library('quantmod')\n",
    "library('PerformanceAnalytics')\n",
    "source(\"/usr/common/config.R\")\n",
    "lcon <- odbcDriverConnect(sprintf(\"Driver={SQL Server};Server=%s;Database=%s;Uid=%s;Pwd=%s;\", ldbserver, ldbname, ldbuser, ldbpassword), case = \"nochange\", believeNRows = TRUE)\n"
   ]
  },
  {
   "cell_type": "code",
   "execution_count": 42,
   "metadata": {},
   "outputs": [
    {
     "name": "stdout",
     "output_type": "stream",
     "text": [
      "[1] \"2017-05-10 through 2017-06-08 (n=25)\"\n",
      "  DECILE     SYMBOL TIME_STAMP IS_LT IS_UT\n",
      "2      8 JENSONICOL 2017-05-10     1     0\n",
      "3      8     KERNEX 2017-05-10     1     0\n",
      "4      7 MADRASFERT 2017-05-10     0     1\n",
      "5      7  MURUDCERA 2017-05-10     0     1\n",
      "6      3     SHILPI 2017-05-10     1     0\n",
      "7      6  SPMLINFRA 2017-05-10     0     1\n",
      "     DECILE     SYMBOL TIME_STAMP IS_LT IS_UT\n",
      "1328      9      KIOCL 2017-06-08     0     1\n",
      "1329      6   MBLINFRA 2017-06-08     0     1\n",
      "1330      4     SHILPI 2017-06-08     1     0\n",
      "1331      9        TFL 2017-06-08     0     1\n",
      "1332      7 UBHOLDINGS 2017-06-08     1     0\n",
      "1333      9   VIMALOIL 2017-06-08     1     0\n"
     ]
    }
   ],
   "source": [
    "dates<-sqlQuery(lcon, \"select distinct(time_stamp) from EQUITY_MISC_INFO where LOWER_PX_BAND is not null\")\n",
    "\n",
    "print(sprintf(\"%s through %s (n=%d)\", first(dates[,1]), last(dates[,1]), length(dates[,1])))\n",
    "\n",
    "ulCkt<-data.frame(DECILE=0, SYMBOL=\"\", TIME_STAMP=as.Date('2000-01-01'), IS_LT=F, IS_UT=F, stringsAsFactors = F)\n",
    "for(i in 1:length(dates[,1])){\n",
    "    d<-toString(dates[i,1])\n",
    "\n",
    "    ckt<-sqlQuery(lcon, sprintf(\"select DECILE, m.SYMBOL, m.TIME_STAMP, case when p.PX_LOW <= m.LOWER_PX_BAND then 1 else 0 end as IS_LT, case when p.PX_HIGH >= m.UPPER_PX_BAND then 1 else 0 end as IS_UT\n",
    "                                    from EQUITY_MISC_INFO m, PX_HISTORY p, DECILE_CONSTITUENTS d\n",
    "                                    where m.SYMBOL = p.SYMBOL\n",
    "                                    and m.SYMBOL = d.SYMBOL\n",
    "                                    and m.TIME_STAMP = p.TIME_STAMP\n",
    "                                    and d.TIME_STAMP = (select max(time_stamp) from DECILE_CONSTITUENTS d2 where d2.TIME_STAMP <= p.TIME_STAMP)\n",
    "                                    and (p.PX_LOW <= m.LOWER_PX_BAND or p.PX_HIGH >= m.UPPER_PX_BAND)\n",
    "                                    and p.TIME_STAMP = '%s'\n",
    "                                    and (p.SERIES = 'eq' or p.SERIES='be')\n",
    "                                    and p.PX_CLOSE > 10\", d))\n",
    "    \n",
    "    if(length(ckt[,1]) == 0) next\n",
    "    ckt[,3]<-as.Date(ckt[,3])\n",
    "    ulCkt<-rbind(ulCkt, ckt)\n",
    "}\n",
    "    \n",
    "ulCkt<-ulCkt[-1,]\n",
    "\n",
    "print(head(ulCkt))\n",
    "print(tail(ulCkt))"
   ]
  },
  {
   "cell_type": "code",
   "execution_count": 38,
   "metadata": {},
   "outputs": [],
   "source": [
    "lowerCktCount1<-aggregate(IS_LT~SYMBOL, data=ulCkt, FUN=sum)\n",
    "lowerCktCount2<-aggregate(DECILE~SYMBOL, data=ulCkt, FUN=mean)\n",
    "lowerCktCount<-merge(lowerCktCount1, lowerCktCount2, by='SYMBOL')\n",
    "\n",
    "upperCktCount1<-aggregate(IS_UT~SYMBOL, data=ulCkt, FUN=sum)\n",
    "upperCktCount2<-aggregate(DECILE~SYMBOL, data=ulCkt, FUN=mean)\n",
    "upperCktCount<-merge(upperCktCount1, upperCktCount2, by='SYMBOL')"
   ]
  },
  {
   "cell_type": "code",
   "execution_count": 39,
   "metadata": {},
   "outputs": [
    {
     "name": "stdout",
     "output_type": "stream",
     "text": [
      "        SYMBOL IS_LT   DECILE\n",
      "183     SHILPI    24 3.541667\n",
      "23   BEARDSELL    16 8.000000\n",
      "225   VIDEOIND    16 2.000000\n",
      "65   GOLDINFRA    14 6.000000\n",
      "48  DSKULKARNI    13 7.000000\n"
     ]
    }
   ],
   "source": [
    "lowerCktCount<-lowerCktCount[order(lowerCktCount[,2], decreasing=T),]\n",
    "print(lowerCktCount[lowerCktCount[,2] > length(dates[,1])/2 & lowerCktCount[,3] <= 8,])"
   ]
  },
  {
   "cell_type": "code",
   "execution_count": 40,
   "metadata": {},
   "outputs": [
    {
     "name": "stdout",
     "output_type": "stream",
     "text": [
      "   SYMBOL IS_UT DECILE\n",
      "34  CANDC    14      7\n"
     ]
    }
   ],
   "source": [
    "upperCktCount<-upperCktCount[order(upperCktCount[,2], decreasing=T),]\n",
    "print(upperCktCount[upperCktCount[,2] > length(dates[,1])/2 & upperCktCount[,3] <= 8,])"
   ]
  }
 ],
 "metadata": {
  "kernelspec": {
   "display_name": "R",
   "language": "R",
   "name": "ir"
  },
  "language_info": {
   "codemirror_mode": "r",
   "file_extension": ".r",
   "mimetype": "text/x-r-source",
   "name": "R",
   "pygments_lexer": "r",
   "version": "3.4.0"
  }
 },
 "nbformat": 4,
 "nbformat_minor": 2
}
