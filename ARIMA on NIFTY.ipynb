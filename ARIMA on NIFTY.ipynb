{
 "cells": [
  {
   "cell_type": "code",
   "execution_count": 26,
   "metadata": {},
   "outputs": [],
   "source": [
    "library('RODBC')\n",
    "library('quantmod')\n",
    "library('PerformanceAnalytics')\n",
    "library('forecast')\n",
    "source(\"/usr/common/config.R\")\n",
    "lcon <- odbcDriverConnect(sprintf(\"Driver={SQL Server};Server=%s;Database=%s;Uid=%s;Pwd=%s;\", ldbserver, ldbname, ldbuser, ldbpassword), case = \"nochange\", believeNRows = TRUE)"
   ]
  },
  {
   "cell_type": "code",
   "execution_count": 27,
   "metadata": {},
   "outputs": [],
   "source": [
    "lookbacks<-c(200, 500, 1000)\n",
    "startDate<-as.Date(\"1997-01-01\")\n",
    "indexName<-'NIFTY 50'\n",
    "\n",
    "prices<-sqlQuery(lcon, sprintf(\"select TIME_STAMP, PX_CLOSE from BHAV_INDEX\n",
    "                                    where TIME_STAMP >='%s'\n",
    "                                    and INDEX_NAME='%s'\", startDate, indexName))\n",
    "\n",
    "pXts<-xts(prices[,2], as.Date(prices[,1]))\n",
    "retXts<-dailyReturn(pXts)"
   ]
  },
  {
   "cell_type": "markdown",
   "metadata": {},
   "source": [
    "What is the best ARIMA fit for the entire time-series?"
   ]
  },
  {
   "cell_type": "code",
   "execution_count": 28,
   "metadata": {},
   "outputs": [
    {
     "name": "stdout",
     "output_type": "stream",
     "text": [
      "Series: retXts \n",
      "ARIMA(1,0,1) with non-zero mean \n",
      "\n",
      "Coefficients:\n",
      "          ar1     ma1   mean\n",
      "      -0.3893  0.4538  6e-04\n",
      "s.e.   0.1587  0.1538  2e-04\n",
      "\n",
      "sigma^2 estimated as 0.0002378:  log likelihood=14026.2\n",
      "AIC=-28044.4   AICc=-28044.39   BIC=-28018.25\n",
      "[1] 1 0 1\n"
     ]
    }
   ],
   "source": [
    "aFit<-auto.arima(retXts)\n",
    "print(aFit)\n",
    "aOrder<-arimaorder(aFit)\n",
    "print(c(aOrder[1], aOrder[2], aOrder[3]))"
   ]
  },
  {
   "cell_type": "markdown",
   "metadata": {},
   "source": [
    "Calculate the ARIMA fit for rolling windows of different lenghts. If the series are alike, then the fit should be the same."
   ]
  },
  {
   "cell_type": "code",
   "execution_count": 29,
   "metadata": {},
   "outputs": [
    {
     "name": "stdout",
     "output_type": "stream",
     "text": [
      "            LB p d q\n",
      "1997-10-27 200 0 0 1\n",
      "1997-10-28 200 0 0 1\n",
      "1997-10-29 200 0 0 0\n",
      "1997-10-30 200 0 0 0\n",
      "1997-11-03 200 0 0 0\n",
      "1997-11-04 200 0 0 0\n",
      "              LB p d q\n",
      "2017-06-062 1000 2 0 2\n",
      "2017-06-072 1000 1 0 1\n",
      "2017-06-082 1000 1 0 1\n",
      "2017-06-092 1000 2 0 1\n",
      "2017-06-122 1000 1 0 1\n",
      "2017-06-132 1000 2 0 1\n"
     ]
    }
   ],
   "source": [
    "arimaFits<-data.frame(LB=0, p=0, d=0, q=0, stringsAsFactors = F)\n",
    "for(i in 1:length(lookbacks)){\n",
    "    lb<-as.numeric(lookbacks[i])\n",
    "    autoFitpdq<-rollapply(retXts, lb, FUN=function(x){\n",
    "        aFit<-auto.arima(x)\n",
    "        aOrder<-arimaorder(aFit)\n",
    "        c(aOrder[1], aOrder[2], aOrder[3])\n",
    "    }, by.column=F)\n",
    "\n",
    "    autoFitpdq<-na.omit(autoFitpdq)\n",
    "    names(autoFitpdq)<-c(\"p\", \"d\", \"q\")\n",
    "    autoFitpdq$LB<-lb\n",
    "    arimaFits<-rbind(arimaFits, data.frame(autoFitpdq))\n",
    "}\n",
    "arimaFits<-arimaFits[-1,]\n",
    "arimaFits<-na.omit(arimaFits)\n",
    "\n",
    "print(head(arimaFits))\n",
    "print(tail(arimaFits))"
   ]
  },
  {
   "cell_type": "markdown",
   "metadata": {},
   "source": [
    "What is the best fit for different windows?\n",
    "ARIMA(0,0,0) represents white noise.\n",
    "The paper(https://papers.ssrn.com/sol3/papers.cfm?abstract_id=2979108) says that ARIMA(1,1,1) is the best fit for NIFTY. Really?"
   ]
  },
  {
   "cell_type": "code",
   "execution_count": 50,
   "metadata": {},
   "outputs": [
    {
     "name": "stdout",
     "output_type": "stream",
     "text": [
      "[1] \"For lookback=200: white noise = 56.40%, (1,1,1): 0.00%, best: 1,0,1 (11.05%)\"\n",
      "   MODEL  LB count\n",
      "1  0,0,0 200  2761\n",
      "8  1,0,1 200   541\n",
      "2  0,0,1 200   340\n",
      "16 2,0,2 200   326\n",
      "7  1,0,0 200   245\n",
      "[1] \"For lookback=500: white noise = 41.96%, (1,1,1): 0.00%, best: 1,0,1 (11.56%)\"\n",
      "   MODEL  LB count\n",
      "41 0,0,0 500  1928\n",
      "48 1,0,1 500   531\n",
      "56 2,0,2 500   507\n",
      "42 0,0,1 500   362\n",
      "57 2,0,3 500   270\n",
      "[1] \"For lookback=1000: white noise = 26.96%, (1,1,1): 0.00%, best: 3,0,2 (14.90%)\"\n",
      "    MODEL   LB count\n",
      "91  0,0,0 1000  1104\n",
      "112 3,0,2 1000   610\n",
      "92  0,0,1 1000   576\n",
      "97  1,0,1 1000   341\n",
      "104 2,0,2 1000   278\n"
     ]
    }
   ],
   "source": [
    "arimaFits2<-arimaFits\n",
    "arimaFits2$MODEL<-sprintf(\"%d,%d,%d\", arimaFits2$p, arimaFits2$d, arimaFits2$q)\n",
    "bestFit<-aggregate(cbind(count=LB) ~ MODEL+LB, arimaFits2, FUN = function(x){NROW(x)})\n",
    "\n",
    "for(i in 1:length(lookbacks)){\n",
    "    lb<-as.numeric(lookbacks[i])\n",
    "    whiteNoise<-length(arimaFits2[arimaFits2$LB==lb & arimaFits2$p==0 & arimaFits2$d==0 & arimaFits2$q==0,1])\n",
    "    fit111<-length(arimaFits2[arimaFits2$LB==lb & arimaFits2$p == 1 & arimaFits2$d == 1 & arimaFits2$q == 1,1])\n",
    "    \n",
    "    bestFitSubSet<-bestFit[bestFit$LB==lb,]\n",
    "    bestModelCount<-max(bestFitSubSet[bestFitSubSet$MODEL != \"0,0,0\",]$count)\n",
    "    bestModel<-first(bestFitSubSet[bestFitSubSet$MODEL != \"0,0,0\" & bestFitSubSet$count==bestModelCount,]$MODEL)\n",
    "    \n",
    "    total<-length(arimaFits2[arimaFits2$LB==lb,1])\n",
    "    \n",
    "    print(sprintf(\"For lookback=%d: white noise = %.2f%%, (1,1,1): %.2f%%, best: %s (%.2f%%)\", lb, 100.0*whiteNoise/total, 100.0*not111/total, bestModel, 100.0*bestModelCount/total))\n",
    "    print(head(bestFitSubSet[order(bestFitSubSet$count, decreasing=T),], 5))\n",
    "}\n"
   ]
  }
 ],
 "metadata": {
  "kernelspec": {
   "display_name": "R",
   "language": "R",
   "name": "ir"
  },
  "language_info": {
   "codemirror_mode": "r",
   "file_extension": ".r",
   "mimetype": "text/x-r-source",
   "name": "R",
   "pygments_lexer": "r",
   "version": "3.4.0"
  }
 },
 "nbformat": 4,
 "nbformat_minor": 2
}
